{
 "cells": [
  {
   "cell_type": "code",
   "execution_count": 1,
   "metadata": {},
   "outputs": [],
   "source": [
    "import findspark\n",
    "\n",
    "findspark.init()"
   ]
  },
  {
   "cell_type": "code",
   "execution_count": 2,
   "metadata": {},
   "outputs": [],
   "source": [
    "from pyspark.sql import SparkSession\n",
    "\n",
    "\n",
    "spark: SparkSession = (\n",
    "    SparkSession.builder.appName(\"classifier_model\")\n",
    "    .master(\"local[*]\")\n",
    "    .config(\"spark.sql.legacy.timeParserPolicy\", \"LEGACY\")\n",
    "    .getOrCreate()\n",
    ")\n",
    "spark.sparkContext.setCheckpointDir(\"../checkpoints/\")"
   ]
  },
  {
   "attachments": {},
   "cell_type": "markdown",
   "metadata": {},
   "source": [
    "##### Load dataframe"
   ]
  },
  {
   "cell_type": "code",
   "execution_count": 3,
   "metadata": {},
   "outputs": [],
   "source": [
    "from pyspark.sql import functions as f\n",
    "\n",
    "schema = \"polarity FLOAT, id LONG, date_time TIMESTAMP, query STRING, user STRING, text STRING\"\n",
    "timestampformat = \"EEE MMM dd HH:mm:ss zzz yyyy\"\n",
    "\n",
    "spark_reader = spark.read.schema(schema)"
   ]
  },
  {
   "cell_type": "code",
   "execution_count": 4,
   "metadata": {},
   "outputs": [],
   "source": [
    "dataframe = (\n",
    "    spark_reader.csv(\n",
    "        \"../data/clean_static_data\",\n",
    "        quote='\"',\n",
    "        header=False,\n",
    "        encoding=\"utf-8\",\n",
    "        timestampFormat=timestampformat,\n",
    "    )\n",
    "    .select(\"text\", \"polarity\")\n",
    "    .coalesce(2)\n",
    "    .cache()\n",
    ")"
   ]
  },
  {
   "cell_type": "code",
   "execution_count": 5,
   "metadata": {},
   "outputs": [
    {
     "name": "stdout",
     "output_type": "stream",
     "text": [
      "+--------------------+--------+\n",
      "|                text|polarity|\n",
      "+--------------------+--------+\n",
      "|goen to pass out ...|     0.0|\n",
      "|Planned to go to ...|     0.0|\n",
      "|aussiemcflyfan ye...|     0.0|\n",
      "|Why am I up alrea...|     0.0|\n",
      "|But now talking a...|     0.0|\n",
      "|CorinaBecker It's...|     0.0|\n",
      "|miss antonia me I...|     0.0|\n",
      "|So bummed Tried t...|     0.0|\n",
      "|aaaahhh coffee No...|     0.0|\n",
      "|Dad had traumatic...|     0.0|\n",
      "+--------------------+--------+\n",
      "\n"
     ]
    }
   ],
   "source": [
    "dataframe.limit(10).show()"
   ]
  },
  {
   "attachments": {},
   "cell_type": "markdown",
   "metadata": {},
   "source": [
    "##### Split dataframe into train and test dataframes"
   ]
  },
  {
   "cell_type": "code",
   "execution_count": 6,
   "metadata": {},
   "outputs": [],
   "source": [
    "train_df, test_df = dataframe.randomSplit([0.98, 0.02])"
   ]
  },
  {
   "cell_type": "code",
   "execution_count": 7,
   "metadata": {},
   "outputs": [
    {
     "name": "stdout",
     "output_type": "stream",
     "text": [
      "+--------+------+\n",
      "|polarity| count|\n",
      "+--------+------+\n",
      "|     0.0|637375|\n",
      "|     1.0|637034|\n",
      "+--------+------+\n",
      "\n"
     ]
    }
   ],
   "source": [
    "train_df.groupBy(\"polarity\").count().show()"
   ]
  },
  {
   "cell_type": "code",
   "execution_count": 8,
   "metadata": {},
   "outputs": [
    {
     "name": "stdout",
     "output_type": "stream",
     "text": [
      "+--------+-----+\n",
      "|polarity|count|\n",
      "+--------+-----+\n",
      "|     0.0|13038|\n",
      "|     1.0|13014|\n",
      "+--------+-----+\n",
      "\n"
     ]
    }
   ],
   "source": [
    "test_df.groupBy(\"polarity\").count().show()"
   ]
  },
  {
   "cell_type": "code",
   "execution_count": 9,
   "metadata": {},
   "outputs": [],
   "source": [
    "from pyspark.ml.feature import HashingTF, StopWordsRemover, Tokenizer, IDF\n",
    "from pyspark.ml.classification import LogisticRegression\n",
    "from pyspark.ml.pipeline import Pipeline\n",
    "# from pyspark.ml.tuning import CrossValidator, ParamGridBuilder\n",
    "from pyspark.ml.evaluation import MulticlassClassificationEvaluator"
   ]
  },
  {
   "attachments": {},
   "cell_type": "markdown",
   "metadata": {},
   "source": [
    "##### Define pipeline"
   ]
  },
  {
   "cell_type": "code",
   "execution_count": 10,
   "metadata": {},
   "outputs": [],
   "source": [
    "tokenizer = Tokenizer(inputCol=\"text\", outputCol=\"raw_tokenized\")\n",
    "\n",
    "stopwords_remover = StopWordsRemover(\n",
    "    inputCol=\"raw_tokenized\",\n",
    "    outputCol=\"tokenized\",\n",
    "    stopWords=StopWordsRemover.loadDefaultStopWords(\"english\") + [\"'\"],\n",
    ")\n",
    "\n",
    "hash_term_freq = HashingTF(numFeatures=1e5, inputCol=\"tokenized\", outputCol=\"tf\")\n",
    "\n",
    "idf = IDF(inputCol=\"tf\", outputCol=\"features\", minDocFreq=5)\n",
    "\n",
    "lr_classifier = LogisticRegression(labelCol=\"polarity\", maxIter=100, regParam=0.1)\n",
    "\n",
    "pipline = Pipeline(stages=[tokenizer, stopwords_remover, hash_term_freq, idf, lr_classifier])"
   ]
  },
  {
   "attachments": {},
   "cell_type": "markdown",
   "metadata": {},
   "source": [
    "##### In order to save time, I commented grid searching. Please uncomment it in a strong system."
   ]
  },
  {
   "cell_type": "code",
   "execution_count": 11,
   "metadata": {},
   "outputs": [],
   "source": [
    "# params = (\n",
    "#     ParamGridBuilder()\n",
    "#     .addGrid(hash_term_freq.numFeatures, [1e3, 1e4, 1e5, 1e6])\n",
    "#     .addGrid(idf.minDocFreq, [0, 3, 5, 10])\n",
    "#     .addGrid(lr_classifier.regParam, [0.01, 0.1, 1, 2])\n",
    "#     .addGrid(lr_classifier.maxIter, [20, 50, 100])\n",
    "#     .build()\n",
    "# )\n",
    "\n",
    "precision_evaluator = MulticlassClassificationEvaluator(labelCol=\"polarity\", metricName=\"weightedPrecision\")\n",
    "recall_evaluator = MulticlassClassificationEvaluator(labelCol=\"polarity\", metricName=\"weightedRecall\")\n",
    "f1_evaluator = MulticlassClassificationEvaluator(labelCol=\"polarity\", metricName=\"f1\")\n",
    "\n",
    "# cv = CrossValidator(\n",
    "#     estimator=pipline, estimatorParamMaps=params, evaluator=evaluator, numFolds=5\n",
    "# )"
   ]
  },
  {
   "attachments": {},
   "cell_type": "markdown",
   "metadata": {},
   "source": [
    "##### Train model"
   ]
  },
  {
   "cell_type": "code",
   "execution_count": 12,
   "metadata": {},
   "outputs": [],
   "source": [
    "transformer = pipline.fit(train_df)"
   ]
  },
  {
   "cell_type": "code",
   "execution_count": 13,
   "metadata": {},
   "outputs": [
    {
     "name": "stdout",
     "output_type": "stream",
     "text": [
      "loss:\n",
      "0.693147144761647\n",
      "0.5380875983772021\n",
      "0.5261101520811851\n",
      "0.5245941650516408\n",
      "0.5244850323217729\n",
      "0.5244412111137922\n",
      "0.5244363525386133\n",
      "0.5244349870449421\n",
      "0.5244347353991443\n",
      "0.5244347250624964\n",
      "0.5244347150426151\n",
      "0.5244347143868816\n",
      "0.5244347140033999\n",
      "0.5244347139881549\n",
      "0.5244347139600913\n",
      "0.5244347139584957\n",
      "0.5244347139575722\n"
     ]
    }
   ],
   "source": [
    "train_summary = transformer.stages[-1].summary\n",
    "\n",
    "print(\"loss:\")\n",
    "for objective in train_summary.objectiveHistory:\n",
    "    print(objective)"
   ]
  },
  {
   "attachments": {},
   "cell_type": "markdown",
   "metadata": {},
   "source": [
    "##### Check results for train dataframe"
   ]
  },
  {
   "cell_type": "code",
   "execution_count": 14,
   "metadata": {},
   "outputs": [
    {
     "name": "stdout",
     "output_type": "stream",
     "text": [
      "F-measure: 0.7983109615867954\n",
      "Precision: 0.7984692989188622\n",
      "Recall: 0.7983331881680057\n"
     ]
    }
   ],
   "source": [
    "fMeasure = train_summary.weightedFMeasure()\n",
    "precision = train_summary.weightedPrecision\n",
    "recall = train_summary.weightedRecall\n",
    "print(f\"F-measure: {fMeasure}\\nPrecision: {precision}\\nRecall: {recall}\")"
   ]
  },
  {
   "attachments": {},
   "cell_type": "markdown",
   "metadata": {},
   "source": [
    "##### Check results for test dataframe"
   ]
  },
  {
   "cell_type": "code",
   "execution_count": 15,
   "metadata": {},
   "outputs": [
    {
     "name": "stdout",
     "output_type": "stream",
     "text": [
      "F-measure: 0.7639744342068644\n",
      "Precision: 0.7641897014846722\n",
      "Recall: 0.7640104406571473\n"
     ]
    }
   ],
   "source": [
    "predictions = transformer.transform(test_df)\n",
    "fMeasure = f1_evaluator.evaluate(predictions)\n",
    "precision = precision_evaluator.evaluate(predictions)\n",
    "recall = recall_evaluator.evaluate(predictions)\n",
    "print(f\"F-measure: {fMeasure}\\nPrecision: {precision}\\nRecall: {recall}\")"
   ]
  },
  {
   "attachments": {},
   "cell_type": "markdown",
   "metadata": {},
   "source": [
    "##### Save model"
   ]
  },
  {
   "cell_type": "code",
   "execution_count": 16,
   "metadata": {},
   "outputs": [],
   "source": [
    "transformer.write().overwrite().save('../model2')"
   ]
  },
  {
   "cell_type": "code",
   "execution_count": 17,
   "metadata": {},
   "outputs": [],
   "source": [
    "spark.stop()"
   ]
  }
 ],
 "metadata": {
  "kernelspec": {
   "display_name": "base",
   "language": "python",
   "name": "python3"
  },
  "language_info": {
   "codemirror_mode": {
    "name": "ipython",
    "version": 3
   },
   "file_extension": ".py",
   "mimetype": "text/x-python",
   "name": "python",
   "nbconvert_exporter": "python",
   "pygments_lexer": "ipython3",
   "version": "3.8.5"
  },
  "orig_nbformat": 4
 },
 "nbformat": 4,
 "nbformat_minor": 2
}
